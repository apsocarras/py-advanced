{
 "cells": [
  {
   "cell_type": "code",
   "execution_count": 45,
   "metadata": {},
   "outputs": [],
   "source": [
    "# Use Python's Faker library to generate a list of twenty colors. Call it color_list.\n",
    "from faker import Faker\n",
    "\n",
    "fake = Faker()\n",
    "\n",
    "color_list = []\n",
    "\n",
    "for i in range(20):\n",
    "  color_list.append(fake.color_name())"
   ]
  },
  {
   "cell_type": "code",
   "execution_count": 46,
   "metadata": {},
   "outputs": [
    {
     "data": {
      "text/plain": [
       "18"
      ]
     },
     "execution_count": 46,
     "metadata": {},
     "output_type": "execute_result"
    }
   ],
   "source": [
    "# Write a function called remove_dups to remove any duplicates from color_list.\n",
    "from remove import remove_dups\n",
    "\n",
    "color_list = remove_dups(color_list)"
   ]
  },
  {
   "cell_type": "code",
   "execution_count": 47,
   "metadata": {},
   "outputs": [],
   "source": [
    "# Use a dictionary comprehension to create a dictionary called 'color_dict' from color_list\n",
    "color_dict = {color:len(color) for color in color_list}\n",
    "\n",
    "# Write color_dict into a JSON file.\n",
    "with open(\"data/color_dict.json\", \"w\") as json_file:\n",
    "  json.dump(color_dict, json_file)"
   ]
  },
  {
   "cell_type": "code",
   "execution_count": 48,
   "metadata": {},
   "outputs": [
    {
     "name": "stdout",
     "output_type": "stream",
     "text": [
      "Name: LightPink - Length: 9\n",
      "Name: LightSeaGreen - Length: 13\n",
      "Name: DarkSlateBlue - Length: 13\n",
      "Name: Linen - Length: 5\n",
      "Name: Orange - Length: 6\n",
      "Name: Violet - Length: 6\n",
      "Name: DarkSalmon - Length: 10\n",
      "Name: Blue - Length: 4\n",
      "Name: Thistle - Length: 7\n",
      "Name: DarkSeaGreen - Length: 12\n",
      "Name: Turquoise - Length: 9\n",
      "Name: BurlyWood - Length: 9\n",
      "Name: LightSlateGray - Length: 14\n",
      "Name: LightBlue - Length: 9\n",
      "Name: MediumTurquoise - Length: 15\n",
      "Name: LightCoral - Length: 10\n",
      "Name: DarkOliveGreen - Length: 14\n",
      "Name: HotPink - Length: 7\n"
     ]
    }
   ],
   "source": [
    "# Read the color_dict back out of the JSON file. \n",
    "with open(\"data/color_dict.json\", \"r\") as json_file:\n",
    "  read_dict = json.load(json_file)\n",
    "  for key, value in read_dict.items():\n",
    "    # If the value is 4 or more, print a string saying the color name and the length of the name.\n",
    "    if value >= 4: print(f\"Name: {key} - Length: {value}\")"
   ]
  }
 ],
 "metadata": {
  "kernelspec": {
   "display_name": "Python 3.7.15 ('venv': venv)",
   "language": "python",
   "name": "python3"
  },
  "language_info": {
   "codemirror_mode": {
    "name": "ipython",
    "version": 3
   },
   "file_extension": ".py",
   "mimetype": "text/x-python",
   "name": "python",
   "nbconvert_exporter": "python",
   "pygments_lexer": "ipython3",
   "version": "3.7.15"
  },
  "orig_nbformat": 4,
  "vscode": {
   "interpreter": {
    "hash": "8ab1904a3ccfd7912ae2a1bb0c92d74bbbe33c89130848f60ca22d8dba221c29"
   }
  }
 },
 "nbformat": 4,
 "nbformat_minor": 2
}
