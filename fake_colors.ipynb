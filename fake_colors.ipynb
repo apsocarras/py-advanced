{
 "cells": [
  {
   "cell_type": "code",
   "execution_count": 15,
   "metadata": {},
   "outputs": [
    {
     "data": {
      "text/plain": [
       "['LightSteelBlue',\n",
       " 'DeepPink',\n",
       " 'MintCream',\n",
       " 'DarkSeaGreen',\n",
       " 'Khaki',\n",
       " 'Lime',\n",
       " 'DeepPink',\n",
       " 'Yellow',\n",
       " 'Ivory',\n",
       " 'DarkOrchid',\n",
       " 'Lime',\n",
       " 'RoyalBlue',\n",
       " 'GhostWhite',\n",
       " 'Gold',\n",
       " 'Blue',\n",
       " 'Linen',\n",
       " 'SkyBlue',\n",
       " 'DarkMagenta',\n",
       " 'OldLace',\n",
       " 'DarkViolet']"
      ]
     },
     "execution_count": 15,
     "metadata": {},
     "output_type": "execute_result"
    }
   ],
   "source": [
    "from faker import Faker\n",
    "\n",
    "fake = Faker()\n",
    "\n",
    "color_list = []\n",
    "\n",
    "for i in range(20):\n",
    "  color_list.append(fake.color_name())\n",
    "\n",
    "color_list"
   ]
  },
  {
   "cell_type": "code",
   "execution_count": 16,
   "metadata": {},
   "outputs": [
    {
     "data": {
      "text/plain": [
       "['LightSteelBlue',\n",
       " 'DeepPink',\n",
       " 'MintCream',\n",
       " 'DarkSeaGreen',\n",
       " 'Khaki',\n",
       " 'Lime',\n",
       " 'Yellow',\n",
       " 'Ivory',\n",
       " 'DarkOrchid',\n",
       " 'RoyalBlue',\n",
       " 'GhostWhite',\n",
       " 'Gold',\n",
       " 'Blue',\n",
       " 'Linen',\n",
       " 'SkyBlue',\n",
       " 'DarkMagenta',\n",
       " 'OldLace',\n",
       " 'DarkViolet']"
      ]
     },
     "execution_count": 16,
     "metadata": {},
     "output_type": "execute_result"
    }
   ],
   "source": [
    "def remove_dups(ls:list) -> list:\n",
    "  return list(dict.fromkeys(ls))\n",
    "\n",
    "color_list = remove_dups(color_list)\n",
    "len(color_list)"
   ]
  },
  {
   "cell_type": "code",
   "execution_count": 21,
   "metadata": {},
   "outputs": [],
   "source": [
    "import json\n",
    "color_dict = {color:len(color) for color in color_list}\n",
    "\n",
    "with open(\"data/color_dict.json\", \"w\") as json_file:\n",
    "  json.dump(color_dict, json_file)"
   ]
  },
  {
   "cell_type": "code",
   "execution_count": 28,
   "metadata": {},
   "outputs": [
    {
     "name": "stdout",
     "output_type": "stream",
     "text": [
      "Name: LightSteelBlue - Length: 14\n",
      "Name: DeepPink - Length: 8\n",
      "Name: MintCream - Length: 9\n",
      "Name: DarkSeaGreen - Length: 12\n",
      "Name: Khaki - Length: 5\n",
      "Name: Lime - Length: 4\n",
      "Name: Yellow - Length: 6\n",
      "Name: Ivory - Length: 5\n",
      "Name: DarkOrchid - Length: 10\n",
      "Name: RoyalBlue - Length: 9\n",
      "Name: GhostWhite - Length: 10\n",
      "Name: Gold - Length: 4\n",
      "Name: Blue - Length: 4\n",
      "Name: Linen - Length: 5\n",
      "Name: SkyBlue - Length: 7\n",
      "Name: DarkMagenta - Length: 11\n",
      "Name: OldLace - Length: 7\n",
      "Name: DarkViolet - Length: 10\n"
     ]
    }
   ],
   "source": [
    "with open(\"data/color_dict.json\", \"r\") as json_file:\n",
    "  read_dict = json.load(json_file)\n",
    "  for key, value in read_dict.items():\n",
    "    if value >= 4: print(f\"Name: {key} - Length: {value}\")"
   ]
  }
 ],
 "metadata": {
  "kernelspec": {
   "display_name": "Python 3.7.15 ('venv': venv)",
   "language": "python",
   "name": "python3"
  },
  "language_info": {
   "codemirror_mode": {
    "name": "ipython",
    "version": 3
   },
   "file_extension": ".py",
   "mimetype": "text/x-python",
   "name": "python",
   "nbconvert_exporter": "python",
   "pygments_lexer": "ipython3",
   "version": "3.7.15"
  },
  "orig_nbformat": 4,
  "vscode": {
   "interpreter": {
    "hash": "8ab1904a3ccfd7912ae2a1bb0c92d74bbbe33c89130848f60ca22d8dba221c29"
   }
  }
 },
 "nbformat": 4,
 "nbformat_minor": 2
}
